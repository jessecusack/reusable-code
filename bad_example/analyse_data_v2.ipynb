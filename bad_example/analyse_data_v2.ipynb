{
 "cells": [
  {
   "cell_type": "code",
   "execution_count": null,
   "id": "1b7a770a",
   "metadata": {},
   "outputs": [],
   "source": [
    "import cartopy.crs as ccrs\n",
    "import cartopy.feature as cfeature\n",
    "import matplotlib.pyplot as plt\n",
    "import numpy as np\n",
    "import scipy.io as io\n",
    "import utils"
   ]
  },
  {
   "cell_type": "code",
   "execution_count": null,
   "id": "79d36e9d",
   "metadata": {},
   "outputs": [],
   "source": [
    "dat = io.loadmat(\n",
    "    \"/Users/johnsmith/mydata/dat.mat\", squeeze_me=True\n",
    ")"
   ]
  },
  {
   "cell_type": "code",
   "execution_count": null,
   "id": "2a1f858b",
   "metadata": {},
   "outputs": [],
   "source": [
    "proj = projection = ccrs.Orthographic(dat[\"lon\"], dat[\"lat\"])\n",
    "\n",
    "fig, ax = plt.subplots(subplot_kw=dict(projection=proj))\n",
    "ax.set_global()\n",
    "ax.add_feature(cfeature.LAND)\n",
    "ax.add_feature(cfeature.COASTLINE)\n",
    "ax.plot(dat[\"lon\"], dat[\"lat\"], \"ro\", transform=ccrs.PlateCarree())\n",
    "ax.gridlines(crs=ccrs.PlateCarree(), draw_labels=True)\n",
    "\n",
    "fig.savefig(\n",
    "    \"profile_location_python.png\",\n",
    "    dpi=180,\n",
    "    bbox_inches=\"tight\",\n",
    "    pad_inches=0.1,\n",
    ")"
   ]
  },
  {
   "cell_type": "code",
   "execution_count": null,
   "id": "7e176bda",
   "metadata": {},
   "outputs": [],
   "source": [
    "fig, ax = plt.subplots()\n",
    "ax.plot(dat[\"tmp\"], dat[\"d\"])\n",
    "ax.set_xlabel(\"Temperature [deg C]\")\n",
    "ax.set_ylabel(\"Depth [m]\")\n",
    "ax.invert_yaxis()"
   ]
  },
  {
   "cell_type": "code",
   "execution_count": null,
   "id": "b6519bf1",
   "metadata": {},
   "outputs": [],
   "source": [
    "fig, ax = plt.subplots()\n",
    "ax.semilogx(dat[\"e\"], dat[\"d\"])\n",
    "ax.set_xlabel(r\"$\\varepsilon$ [W kg-1]\")\n",
    "ax.set_ylabel(\"Depth [m]\")\n",
    "ax.invert_yaxis()"
   ]
  },
  {
   "cell_type": "code",
   "execution_count": null,
   "id": "4ac23fd6",
   "metadata": {},
   "outputs": [],
   "source": [
    "fig, ax = plt.subplots()\n",
    "ax.plot(dat[\"n\"], dat[\"d\"])\n",
    "ax.set_xlabel(\"N2 [s-2]\")\n",
    "ax.set_ylabel(\"Depth [m]\")\n",
    "ax.invert_yaxis()"
   ]
  },
  {
   "cell_type": "code",
   "execution_count": null,
   "id": "92531b6e",
   "metadata": {},
   "outputs": [],
   "source": [
    "nc = utils.despike(dat[\"n\"])"
   ]
  },
  {
   "cell_type": "code",
   "execution_count": null,
   "id": "bb10765f",
   "metadata": {},
   "outputs": [],
   "source": [
    "fig, ax = plt.subplots()\n",
    "ax.plot(nc, dat[\"d\"])\n",
    "ax.set_xlabel(\"N2 [s-2]\")\n",
    "ax.set_ylabel(\"Depth [m]\")\n",
    "ax.invert_yaxis()"
   ]
  },
  {
   "cell_type": "code",
   "execution_count": null,
   "id": "a694924b",
   "metadata": {},
   "outputs": [],
   "source": [
    "ns = utils.smooth(nc, win=60)\n",
    "\n",
    "fig, ax = plt.subplots()\n",
    "ax.plot(nc, dat[\"d\"])\n",
    "ax.plot(ns, dat[\"d\"])\n",
    "ax.set_xlabel(\"N2 [s-2]\")\n",
    "ax.set_ylabel(\"Depth [m]\")\n",
    "ax.invert_yaxis()\n",
    "ax.set_xlim(-0.2e-5, 1e-5)"
   ]
  },
  {
   "cell_type": "code",
   "execution_count": null,
   "id": "3cd7c153",
   "metadata": {},
   "outputs": [],
   "source": [
    "# Clean up negative values and small values of N2\n",
    "ns[ns < 1e-7] = np.NaN"
   ]
  },
  {
   "cell_type": "code",
   "execution_count": null,
   "id": "c71aa0c7",
   "metadata": {},
   "outputs": [],
   "source": [
    "Krho = utils.rdiff(dat[\"e\"], ns, 0.2)"
   ]
  },
  {
   "cell_type": "code",
   "execution_count": null,
   "id": "6316b7bb",
   "metadata": {},
   "outputs": [],
   "source": [
    "fig, ax = plt.subplots()\n",
    "ax.semilogx(Krho, dat[\"d\"])\n",
    "ax.set_xlabel(r\"$K_{\\rho}$ [m2 s-1]\")\n",
    "ax.set_ylabel(\"Depth [m]\")\n",
    "ax.invert_yaxis()\n",
    "\n",
    "fig.savefig(\n",
    "    \"diffusivity_python.png\", dpi=180, bbox_inches=\"tight\", pad_inches=0.1\n",
    ")"
   ]
  }
 ],
 "metadata": {
  "jupytext": {
   "formats": "ipynb"
  },
  "kernelspec": {
   "display_name": "Python 3 (ipykernel)",
   "language": "python",
   "name": "python3"
  }
 },
 "nbformat": 4,
 "nbformat_minor": 5
}
