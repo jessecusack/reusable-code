{
 "cells": [
  {
   "cell_type": "markdown",
   "id": "166cad19",
   "metadata": {
    "lines_to_next_cell": 0
   },
   "source": [
    "# Analysis of an individual VMP profile\n",
    "\n",
    "Import packages."
   ]
  },
  {
   "cell_type": "code",
   "execution_count": null,
   "id": "8d274a17",
   "metadata": {},
   "outputs": [],
   "source": [
    "import cartopy.crs as ccrs\n",
    "import cartopy.feature as cfeature\n",
    "import matplotlib.pyplot as plt\n",
    "import numpy as np\n",
    "import scipy.io as io\n",
    "import utils"
   ]
  },
  {
   "cell_type": "markdown",
   "id": "54b5817a",
   "metadata": {},
   "source": [
    "Load data."
   ]
  },
  {
   "cell_type": "code",
   "execution_count": null,
   "id": "b33f274b",
   "metadata": {},
   "outputs": [],
   "source": [
    "vmp_profile = io.loadmat(\n",
    "    \"vmp_profile_SPAMEX_2014.mat\", squeeze_me=True\n",
    ")"
   ]
  },
  {
   "cell_type": "markdown",
   "id": "1094a7d1",
   "metadata": {},
   "source": [
    "Where is this profile located?"
   ]
  },
  {
   "cell_type": "code",
   "execution_count": null,
   "id": "ed3cce7b",
   "metadata": {},
   "outputs": [],
   "source": [
    "proj = projection = ccrs.Orthographic(vmp_profile[\"lon\"], vmp_profile[\"lat\"])\n",
    "\n",
    "fig, ax = plt.subplots(subplot_kw=dict(projection=proj))\n",
    "ax.set_global()\n",
    "ax.add_feature(cfeature.LAND)\n",
    "ax.add_feature(cfeature.COASTLINE)\n",
    "ax.plot(vmp_profile[\"lon\"], vmp_profile[\"lat\"], \"ro\", transform=ccrs.PlateCarree())\n",
    "ax.gridlines(crs=ccrs.PlateCarree(), draw_labels=True)\n",
    "\n",
    "fig.savefig(\n",
    "    \"profile_location_python.png\",\n",
    "    dpi=180,\n",
    "    bbox_inches=\"tight\",\n",
    "    pad_inches=0.1,\n",
    ")"
   ]
  },
  {
   "cell_type": "markdown",
   "id": "3577e9aa",
   "metadata": {},
   "source": [
    "What does the data look like?"
   ]
  },
  {
   "cell_type": "code",
   "execution_count": null,
   "id": "f5957664",
   "metadata": {},
   "outputs": [],
   "source": [
    "fig, ax = plt.subplots()\n",
    "ax.plot(vmp_profile[\"temperature\"], vmp_profile[\"depth\"])\n",
    "ax.set_xlabel(\"Temperature [deg C]\")\n",
    "ax.set_ylabel(\"Depth [m]\")\n",
    "ax.invert_yaxis()"
   ]
  },
  {
   "cell_type": "code",
   "execution_count": null,
   "id": "7e5de2cc",
   "metadata": {},
   "outputs": [],
   "source": [
    "fig, ax = plt.subplots()\n",
    "ax.semilogx(vmp_profile[\"dissipation\"], vmp_profile[\"depth\"])\n",
    "ax.set_xlabel(r\"$\\varepsilon$ [W kg-1]\")\n",
    "ax.set_ylabel(\"Depth [m]\")\n",
    "ax.invert_yaxis()"
   ]
  },
  {
   "cell_type": "code",
   "execution_count": null,
   "id": "da20d215",
   "metadata": {},
   "outputs": [],
   "source": [
    "fig, ax = plt.subplots()\n",
    "ax.plot(vmp_profile[\"N_squared\"], vmp_profile[\"depth\"])\n",
    "ax.set_xlabel(\"N2 [s-2]\")\n",
    "ax.set_ylabel(\"Depth [m]\")\n",
    "ax.invert_yaxis()"
   ]
  },
  {
   "cell_type": "markdown",
   "id": "739704eb",
   "metadata": {},
   "source": [
    "Buoynacy frequency has some spikes! We need to get rid of those."
   ]
  },
  {
   "cell_type": "code",
   "execution_count": null,
   "id": "1c3df85c",
   "metadata": {},
   "outputs": [],
   "source": [
    "N2_clean = utils.despike(vmp_profile[\"N_squared\"])"
   ]
  },
  {
   "cell_type": "code",
   "execution_count": null,
   "id": "12b98956",
   "metadata": {},
   "outputs": [],
   "source": [
    "fig, ax = plt.subplots()\n",
    "ax.plot(N2_clean, vmp_profile[\"depth\"])\n",
    "ax.set_xlabel(\"N2 [s-2]\")\n",
    "ax.set_ylabel(\"Depth [m]\")\n",
    "ax.invert_yaxis()"
   ]
  },
  {
   "cell_type": "markdown",
   "id": "ab9ddf92",
   "metadata": {},
   "source": [
    "This looks a lot better.\n",
    "\n",
    "But there are negative values and it seems noisy so we should smooth."
   ]
  },
  {
   "cell_type": "code",
   "execution_count": null,
   "id": "9c46593a",
   "metadata": {},
   "outputs": [],
   "source": [
    "N2_smooth = utils.smooth(N2_clean, win=60)\n",
    "\n",
    "fig, ax = plt.subplots()\n",
    "ax.plot(N2_clean, vmp_profile[\"depth\"])\n",
    "ax.plot(N2_smooth, vmp_profile[\"depth\"])\n",
    "ax.set_xlabel(\"N2 [s-2]\")\n",
    "ax.set_ylabel(\"Depth [m]\")\n",
    "ax.invert_yaxis()\n",
    "ax.set_xlim(-0.2e-5, 1e-5)"
   ]
  },
  {
   "cell_type": "markdown",
   "id": "34290c40",
   "metadata": {},
   "source": [
    "Even better, but there are still a few negative values we want to exclude."
   ]
  },
  {
   "cell_type": "code",
   "execution_count": null,
   "id": "a32327e2",
   "metadata": {},
   "outputs": [],
   "source": [
    "# Clean up negative values and small values of N2\n",
    "N2_smooth[N2_smooth < 1e-7] = np.NaN"
   ]
  },
  {
   "cell_type": "markdown",
   "id": "0b1adf33",
   "metadata": {},
   "source": [
    "Calculate the turbulent diffusivity."
   ]
  },
  {
   "cell_type": "code",
   "execution_count": null,
   "id": "4e62ca1e",
   "metadata": {},
   "outputs": [],
   "source": [
    "Krho = utils.rdiff(vmp_profile[\"dissipation\"], N2_smooth, 0.2)"
   ]
  },
  {
   "cell_type": "markdown",
   "id": "277e3811",
   "metadata": {},
   "source": [
    "Save the result."
   ]
  },
  {
   "cell_type": "code",
   "execution_count": null,
   "id": "5dfba34e",
   "metadata": {},
   "outputs": [],
   "source": [
    "fig, ax = plt.subplots()\n",
    "ax.semilogx(Krho, vmp_profile[\"depth\"])\n",
    "ax.set_xlabel(r\"$K_{\\rho}$ [m2 s-1]\")\n",
    "ax.set_ylabel(\"Depth [m]\")\n",
    "ax.invert_yaxis()\n",
    "\n",
    "fig.savefig(\n",
    "    \"diffusivity_python.png\", dpi=180, bbox_inches=\"tight\", pad_inches=0.1\n",
    ")"
   ]
  }
 ],
 "metadata": {
  "jupytext": {
   "formats": "ipynb"
  },
  "kernelspec": {
   "display_name": "Python 3 (ipykernel)",
   "language": "python",
   "name": "python3"
  }
 },
 "nbformat": 4,
 "nbformat_minor": 5
}
